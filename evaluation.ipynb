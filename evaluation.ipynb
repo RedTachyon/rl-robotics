{
 "cells": [
  {
   "cell_type": "code",
   "execution_count": 1,
   "metadata": {},
   "outputs": [],
   "source": [
    "from collections import namedtuple, defaultdict\n",
    "from itertools import count\n",
    "import random\n",
    "import math\n",
    "import time\n",
    "\n",
    "import numpy as np\n",
    "import matplotlib\n",
    "import matplotlib.pyplot as plt\n",
    "import seaborn as sns\n",
    "\n",
    "import torch\n",
    "import torch.nn as nn\n",
    "import torch.optim as optim\n",
    "import torch.nn.functional as F\n",
    "import torchvision.transforms as T\n",
    "\n",
    "import pybullet as p\n",
    "import pybullet_envs as pe\n",
    "\n",
    "import gym\n",
    "\n",
    "from tqdm import tqdm\n",
    "\n",
    "sns.set()"
   ]
  },
  {
   "cell_type": "code",
   "execution_count": 2,
   "metadata": {},
   "outputs": [
    {
     "name": "stdout",
     "output_type": "stream",
     "text": [
      "\u001b[33mWARN: gym.spaces.Box autodetected dtype as <class 'numpy.float32'>. Please provide explicit dtype.\u001b[0m\n",
      "\u001b[33mWARN: gym.spaces.Box autodetected dtype as <class 'numpy.float32'>. Please provide explicit dtype.\u001b[0m\n",
      "\u001b[33mWARN: Environment '<class 'pybullet_envs.gym_manipulator_envs.ReacherBulletEnv'>' has deprecated methods '_step' and '_reset' rather than 'step' and 'reset'. Compatibility code invoked. Set _gym_disable_underscore_compat = True to disable this behavior.\u001b[0m\n"
     ]
    }
   ],
   "source": [
    "env = pe.make('ReacherBulletEnv-v0')"
   ]
  },
  {
   "cell_type": "code",
   "execution_count": 3,
   "metadata": {},
   "outputs": [
    {
     "data": {
      "text/plain": [
       "array([ 0.14169697,  0.2600181 , -0.14253285, -0.41447783,  0.85140382,\n",
       "       -0.52451076,  0.        ,  0.49692629,  0.        ])"
      ]
     },
     "execution_count": 3,
     "metadata": {},
     "output_type": "execute_result"
    }
   ],
   "source": [
    "env.render()\n",
    "env.reset()"
   ]
  },
  {
   "cell_type": "code",
   "execution_count": 4,
   "metadata": {},
   "outputs": [
    {
     "name": "stdout",
     "output_type": "stream",
     "text": [
      "cpu\n"
     ]
    }
   ],
   "source": [
    "device = torch.device('cuda' if torch.cuda.is_available() else 'cpu')\n",
    "print(device)\n",
    "\n",
    "Transition = namedtuple('Transition', ('state', 'action', 'next_state', 'reward'))\n",
    "\n",
    "class ReplayMemory:\n",
    "  \n",
    "    def __init__(self, capacity):\n",
    "        self.capacity = capacity\n",
    "        self.memory = []\n",
    "        self.position = 0\n",
    "        \n",
    "    def push(self, *args):\n",
    "        if len(self.memory) < self.capacity:\n",
    "            self.memory.append(None)\n",
    "        self.memory[self.position] = Transition(*args)\n",
    "        self.position = (self.position + 1) % self.capacity\n",
    "\n",
    "    def sample(self, batch_size):\n",
    "        return random.sample(self.memory, batch_size)\n",
    "\n",
    "    def __len__(self):\n",
    "        return len(self.memory)\n",
    "\n",
    "\n",
    "\n",
    "class DQN(nn.Module):\n",
    "    \n",
    "    def __init__(self, in_shape, out_shape):\n",
    "        super(DQN, self).__init__()\n",
    "        self.fc1 = nn.Linear(in_shape, 128)\n",
    "        self.fc2 = nn.Linear(128, 128)\n",
    "        \n",
    "        self.head = nn.Linear(128, out_shape)\n",
    "        \n",
    "    def forward(self, x):\n",
    "        \n",
    "        x = F.elu(self.fc1(x))\n",
    "        x = F.elu(self.fc2(x))\n",
    "        return self.head(x)\n",
    "    \n",
    "    \n",
    "class DQNAgent:\n",
    "    \n",
    "    def __init__(self, env, in_shape: int, out_shape: int, config: dict, type_=torch.cuda.FloatTensor):\n",
    "        self.env = env\n",
    "        self.type = type_\n",
    "        self.current_state = self.reset()\n",
    "        \n",
    "        device = 'cuda' if torch.cuda.is_available() else 'cpu'\n",
    "        \n",
    "        \n",
    "        self._proto_config = config\n",
    "        self.config = self.get_config()\n",
    "        \n",
    "        self.policy_net = DQN(in_shape, out_shape).to(device).type(self.type)\n",
    "        #self.target_net = self.policy_net\n",
    "        \n",
    "        self.target_net = DQN(in_shape, out_shape).to(device).type(self.type)\n",
    "        \n",
    "        \n",
    "        self.target_net.load_state_dict(self.policy_net.state_dict())\n",
    "        self.target_net.eval()\n",
    "\n",
    "        self.optimizer = optim.Adam(self.policy_net.parameters())\n",
    "        self.memory = ReplayMemory(self.config['MEMORY_SIZE'])\n",
    "        \n",
    "        self.histories = defaultdict(list)\n",
    "        \n",
    "        self.steps_done = 0\n",
    "        \n",
    "    def select_action(self, greedy=False):\n",
    "        if greedy:\n",
    "            with torch.no_grad():\n",
    "                return self.policy_net(self.current_state).max(1)[1].view(1,1).item()\n",
    "            \n",
    "        EPS_END, EPS_START, EPS_DECAY = self.config['EPS_END'], self.config['EPS_START'], self.config['EPS_DECAY']\n",
    "        sample = random.random()\n",
    "        eps_threshold = EPS_END + (EPS_START - EPS_END) * math.exp(-1. * self.steps_done / EPS_DECAY)\n",
    "\n",
    "        self.steps_done += 1\n",
    "\n",
    "        if sample > eps_threshold:\n",
    "            with torch.no_grad():\n",
    "\n",
    "                return self.policy_net(self.current_state).max(1)[1].view(1,1).item()\n",
    "        else:\n",
    "            return random.choice(list(self.config['ACTION_DICT'].keys()))\n",
    "        \n",
    "    def add_to_config(self, name, default):\n",
    "        if name in self._proto_config.keys():\n",
    "            self.config[name] = self._proto_config[name]\n",
    "        else:\n",
    "            self.config[name] = default\n",
    "            \n",
    "    def get_config(self):\n",
    "        self.config = {}\n",
    "        \n",
    "        # Add necessary parameters\n",
    "        self.add_to_config('BATCH_SIZE', 128)\n",
    "        self.add_to_config('GAMMA', 0.99)\n",
    "        self.add_to_config('EPS_START', 0.9)\n",
    "        self.add_to_config('EPS_END', 0.05)\n",
    "        self.add_to_config('EPS_DECAY', 200)\n",
    "        self.add_to_config('TARGET_UPDATE', 10)\n",
    "        self.add_to_config('MEMORY_SIZE', 10000)\n",
    "        self.add_to_config('ACTION_DICT', {\n",
    "            0: [ .0, -.1],\n",
    "            1: [ .0,  .1],\n",
    "            2: [ .1, -.1],\n",
    "            3: [ .1,  .0],\n",
    "            4: [ .1,  .1],\n",
    "            5: [-.1, -.1],\n",
    "            6: [-.1,  .0],\n",
    "            7: [-.1,  .1],\n",
    "            8: [ .0,  .0]\n",
    "        })\n",
    "        \n",
    "        # Add everything else provided\n",
    "        for key in self._proto_config.keys():\n",
    "            if key not in self.config:\n",
    "                self.config[key] = self._proto_config[key]\n",
    "        \n",
    "        return self.config\n",
    "        \n",
    "    def take_action(self, action=None, remember=True, greedy=False):\n",
    "        if action is None:\n",
    "            action = self.select_action(greedy=greedy)\n",
    "        \n",
    "        new_state, reward, done, info = self.env.step(self.config['ACTION_DICT'][action])\n",
    "        \n",
    "#         if done: \n",
    "#             reward = -1\n",
    "        \n",
    "        new_state = torch.tensor([new_state], device=device).type(self.type)\n",
    "        reward = torch.tensor([reward], device=device).type(self.type)\n",
    "        \n",
    "        if remember:\n",
    "            self.memory.push(self.current_state, action, new_state, reward)\n",
    "        \n",
    "        self.current_state = new_state\n",
    "        \n",
    "        return new_state, reward, done, info\n",
    "        \n",
    "    def optimize_model(self):\n",
    "        BATCH_SIZE, GAMMA = self.config['BATCH_SIZE'], self.config['GAMMA']\n",
    "        \n",
    "        if len(self.memory) < BATCH_SIZE:\n",
    "            return False\n",
    "        \n",
    "        self.policy_net.train()\n",
    "\n",
    "        # Randomly sample and preprocess a batch of data\n",
    "        transitions = self.memory.sample(BATCH_SIZE)\n",
    "\n",
    "        batch = Transition(*zip(*transitions))\n",
    "\n",
    "        # \n",
    "        state_batch = torch.cat(batch.state).type(self.type)\n",
    "        action_batch = torch.tensor(batch.action, device=device).view(-1, 1)\n",
    "        reward_batch = torch.cat(batch.reward).type(self.type)\n",
    "        next_state_batch = torch.cat(batch.next_state).type(self.type)\n",
    "\n",
    "        state_action_values = self.policy_net(state_batch).gather(1, action_batch) # Estimate from the network\n",
    "\n",
    "        \n",
    "        next_state_values = self.target_net(next_state_batch).max(1)[0].detach()\n",
    "\n",
    "        expected_state_action_values = (next_state_values * GAMMA) + reward_batch # Estimate from Bellman equation and the network\n",
    "\n",
    "        # Basically training to solve Bellman equation\n",
    "\n",
    "        loss = F.smooth_l1_loss(state_action_values.view(-1,1), expected_state_action_values.view(-1,1))\n",
    "\n",
    "        self.optimizer.zero_grad()\n",
    "        loss.backward()\n",
    "\n",
    "        for param in self.policy_net.parameters():\n",
    "            param.grad.data.clamp_(-1, 1)\n",
    "        \n",
    "        self.optimizer.step()\n",
    "        \n",
    "        self.policy_net.eval()\n",
    "        \n",
    "        return True\n",
    "    \n",
    "    def reset(self):\n",
    "        self.current_state = torch.tensor([self.env.reset()], device=device).type(self.type)\n",
    "        \n",
    "    def update_target(self):\n",
    "        self.target_net.load_state_dict(self.policy_net.state_dict())"
   ]
  },
  {
   "cell_type": "code",
   "execution_count": 5,
   "metadata": {},
   "outputs": [],
   "source": [
    "model = torch.load('model.pkl', map_location='cpu')\n",
    "\n",
    "config = {\n",
    "    'TARGET_UPDATE': 10,\n",
    "    'BATCH_SIZE': 1024,\n",
    "    #'ACTION_DICT': {0: 0, 1: 1},\n",
    "    'MEMORY_SIZE': 30000,\n",
    "    'EPS_START': 0.9,\n",
    "    'EPS_END': 0.01,\n",
    "    'EPS_DECAY': 500,\n",
    "    'GAMMA': 0.8,\n",
    "    \n",
    "}\n",
    "\n",
    "\n",
    "in_shape = env.observation_space.shape[0]\n",
    "out_shape = 9\n",
    "\n",
    "agent = DQNAgent(env, in_shape, out_shape, config, type_=torch.FloatTensor)"
   ]
  },
  {
   "cell_type": "code",
   "execution_count": 6,
   "metadata": {},
   "outputs": [],
   "source": [
    "agent.policy_net = model\n",
    "agent.update_target()"
   ]
  },
  {
   "cell_type": "code",
   "execution_count": 11,
   "metadata": {},
   "outputs": [
    {
     "name": "stderr",
     "output_type": "stream",
     "text": [
      "100%|██████████| 10/10 [00:16<00:00,  1.64s/it]\n"
     ]
    },
    {
     "data": {
      "image/png": "[encoded data removed]",
      "text/plain": [
       "<Figure size 432x288 with 1 Axes>"
      ]
     },
     "metadata": {
      "needs_background": "light"
     },
     "output_type": "display_data"
    },
    {
     "name": "stdout",
     "output_type": "stream",
     "text": [
      "17.343693\n"
     ]
    }
   ],
   "source": [
    "num_episodes = 10\n",
    "\n",
    "test_episode_scores = []\n",
    "\n",
    "\n",
    "for i_episode in tqdm(range(num_episodes)):\n",
    "    agent.reset()\n",
    "    \n",
    "    ep_score = 0\n",
    "    for t in count():\n",
    "        agent.env.render()\n",
    "        next_state, reward, done, info = agent.take_action(remember=False, greedy=True)\n",
    "            \n",
    "        ep_score += reward\n",
    "        \n",
    "        if done:\n",
    "            test_episode_scores.append(ep_score)\n",
    "            break\n",
    "        time.sleep(.01)\n",
    "        \n",
    "        \n",
    "test_episode_scores = torch.cat(test_episode_scores).cpu().numpy()\n",
    "\n",
    "sns.regplot(np.arange(len(test_episode_scores)), test_episode_scores, marker='.')\n",
    "plt.show()\n",
    "print(test_episode_scores.mean())"
   ]
  },
  {
   "cell_type": "code",
   "execution_count": 20,
   "metadata": {},
   "outputs": [
    {
     "data": {
      "text/plain": [
       "array([], dtype=float64)"
      ]
     },
     "execution_count": 20,
     "metadata": {},
     "output_type": "execute_result"
    }
   ],
   "source": [
    "env.render()"
   ]
  },
  {
   "cell_type": "code",
   "execution_count": 21,
   "metadata": {},
   "outputs": [
    {
     "data": {
      "text/plain": [
       "array([-0.08868987,  0.16742766,  0.08904331, -0.15639689, -0.98953754,\n",
       "       -0.14427562,  0.        ,  1.03235614,  0.        ])"
      ]
     },
     "execution_count": 21,
     "metadata": {},
     "output_type": "execute_result"
    }
   ],
   "source": [
    "env.reset()"
   ]
  }
 ],
 "metadata": {
  "kernelspec": {
   "display_name": "Python3.6 (pybullet)",
   "language": "python",
   "name": "pybullet"
  },
  "language_info": {
   "codemirror_mode": {
    "name": "ipython",
    "version": 3
   },
   "file_extension": ".py",
   "mimetype": "text/x-python",
   "name": "python",
   "nbconvert_exporter": "python",
   "pygments_lexer": "ipython3",
   "version": "3.6.6"
  }
 },
 "nbformat": 4,
 "nbformat_minor": 2
}
